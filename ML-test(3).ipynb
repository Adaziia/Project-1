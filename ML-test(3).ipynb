{
 "cells": [
  {
   "cell_type": "markdown",
   "id": "2a6d10de-6143-454d-9dcb-609790f4f6ab",
   "metadata": {},
   "source": [
    "# 3. Straight line: given x=10\r\n",
    "y =mx+c we have: mean of x=(0+1+2+3+4)/5=2\n",
    " mean of y=(2+3+5+4+6)/5=\n",
    " slope(m)=(x-mean x)/(y-mean y) = 0.5\n",
    " c=mean of y-m* mean of x = 4-0.52 = 3\n",
    " Stright line y=0.510+3 = 8"
   ]
  }
 ],
 "metadata": {
  "kernelspec": {
   "display_name": "Python 3 (ipykernel)",
   "language": "python",
   "name": "python3"
  },
  "language_info": {
   "codemirror_mode": {
    "name": "ipython",
    "version": 3
   },
   "file_extension": ".py",
   "mimetype": "text/x-python",
   "name": "python",
   "nbconvert_exporter": "python",
   "pygments_lexer": "ipython3",
   "version": "3.12.4"
  }
 },
 "nbformat": 4,
 "nbformat_minor": 5
}
