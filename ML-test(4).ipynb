{
 "cells": [
  {
   "cell_type": "markdown",
   "id": "145cbfe6-2592-48ac-800d-0d980cec836d",
   "metadata": {},
   "source": [
    "# 4.Zomato"
   ]
  },
  {
   "cell_type": "code",
   "execution_count": 277,
   "id": "62d59a84-1392-45be-b1fd-6a13dca7d1f9",
   "metadata": {},
   "outputs": [],
   "source": [
    "import pandas as pd"
   ]
  },
  {
   "cell_type": "code",
   "execution_count": 278,
   "id": "29e3740d-8622-4f8c-a841-47f85bdfb4c0",
   "metadata": {},
   "outputs": [],
   "source": [
    "df=pd.read_csv(\"Zomato.csv\")"
   ]
  },
  {
   "cell_type": "code",
   "execution_count": 279,
   "id": "83200f41-fac7-4fd7-9aa7-dd88d1683212",
   "metadata": {},
   "outputs": [
    {
     "data": {
      "text/plain": [
       "Unnamed: 0               0\n",
       "Restaurant ID            0\n",
       "Restaurant Name          0\n",
       "Country Code             0\n",
       "City                     0\n",
       "Address                  0\n",
       "Locality                 1\n",
       "Locality Verbose         1\n",
       "Longitude                1\n",
       "Latitude                 1\n",
       "Cuisines                10\n",
       "Average Cost for two     1\n",
       "Currency                 1\n",
       "Has Table booking        1\n",
       "Has Online delivery      1\n",
       "Is delivering now        1\n",
       "Switch to order menu     1\n",
       "Price range              2\n",
       "Aggregate rating         2\n",
       "Rating color             2\n",
       "Rating text              2\n",
       "Votes                    2\n",
       "dtype: int64"
      ]
     },
     "execution_count": 279,
     "metadata": {},
     "output_type": "execute_result"
    }
   ],
   "source": [
    "df.isnull().sum()"
   ]
  },
  {
   "cell_type": "code",
   "execution_count": 280,
   "id": "e4536938-07f2-4e79-a716-6169e86a4cf6",
   "metadata": {},
   "outputs": [
    {
     "data": {
      "text/html": [
       "<div>\n",
       "<style scoped>\n",
       "    .dataframe tbody tr th:only-of-type {\n",
       "        vertical-align: middle;\n",
       "    }\n",
       "\n",
       "    .dataframe tbody tr th {\n",
       "        vertical-align: top;\n",
       "    }\n",
       "\n",
       "    .dataframe thead th {\n",
       "        text-align: right;\n",
       "    }\n",
       "</style>\n",
       "<table border=\"1\" class=\"dataframe\">\n",
       "  <thead>\n",
       "    <tr style=\"text-align: right;\">\n",
       "      <th></th>\n",
       "      <th>Unnamed: 0</th>\n",
       "      <th>Restaurant ID</th>\n",
       "      <th>Restaurant Name</th>\n",
       "      <th>Country Code</th>\n",
       "      <th>City</th>\n",
       "      <th>Address</th>\n",
       "      <th>Locality</th>\n",
       "      <th>Locality Verbose</th>\n",
       "      <th>Longitude</th>\n",
       "      <th>Latitude</th>\n",
       "      <th>...</th>\n",
       "      <th>Currency</th>\n",
       "      <th>Has Table booking</th>\n",
       "      <th>Has Online delivery</th>\n",
       "      <th>Is delivering now</th>\n",
       "      <th>Switch to order menu</th>\n",
       "      <th>Price range</th>\n",
       "      <th>Aggregate rating</th>\n",
       "      <th>Rating color</th>\n",
       "      <th>Rating text</th>\n",
       "      <th>Votes</th>\n",
       "    </tr>\n",
       "  </thead>\n",
       "  <tbody>\n",
       "    <tr>\n",
       "      <th>0</th>\n",
       "      <td>0</td>\n",
       "      <td>6317637</td>\n",
       "      <td>Le Petit Souffle</td>\n",
       "      <td>162.0</td>\n",
       "      <td>Makati City</td>\n",
       "      <td>Third Floor, Century City Mall, Kalayaan Avenu...</td>\n",
       "      <td>Century City Mall, Poblacion, Makati City</td>\n",
       "      <td>Century City Mall, Poblacion, Makati City, Mak...</td>\n",
       "      <td>121.027535</td>\n",
       "      <td>14.565443</td>\n",
       "      <td>...</td>\n",
       "      <td>Botswana Pula(P)</td>\n",
       "      <td>Yes</td>\n",
       "      <td>No</td>\n",
       "      <td>No</td>\n",
       "      <td>No</td>\n",
       "      <td>3.0</td>\n",
       "      <td>4.8</td>\n",
       "      <td>Dark Green</td>\n",
       "      <td>Excellent</td>\n",
       "      <td>314.0</td>\n",
       "    </tr>\n",
       "    <tr>\n",
       "      <th>1</th>\n",
       "      <td>1</td>\n",
       "      <td>6304287</td>\n",
       "      <td>Izakaya Kikufuji</td>\n",
       "      <td>162.0</td>\n",
       "      <td>Makati City</td>\n",
       "      <td>Little Tokyo, 2277 Chino Roces Avenue, Legaspi...</td>\n",
       "      <td>Little Tokyo, Legaspi Village, Makati City</td>\n",
       "      <td>Little Tokyo, Legaspi Village, Makati City, Ma...</td>\n",
       "      <td>121.014101</td>\n",
       "      <td>14.553708</td>\n",
       "      <td>...</td>\n",
       "      <td>Botswana Pula(P)</td>\n",
       "      <td>Yes</td>\n",
       "      <td>No</td>\n",
       "      <td>No</td>\n",
       "      <td>No</td>\n",
       "      <td>3.0</td>\n",
       "      <td>4.5</td>\n",
       "      <td>Dark Green</td>\n",
       "      <td>Excellent</td>\n",
       "      <td>591.0</td>\n",
       "    </tr>\n",
       "    <tr>\n",
       "      <th>2</th>\n",
       "      <td>2</td>\n",
       "      <td>6300002</td>\n",
       "      <td>Heat - Edsa Shangri-La</td>\n",
       "      <td>162.0</td>\n",
       "      <td>Mandaluyong City</td>\n",
       "      <td>Edsa Shangri-La, 1 Garden Way, Ortigas, Mandal...</td>\n",
       "      <td>Edsa Shangri-La, Ortigas, Mandaluyong City</td>\n",
       "      <td>Edsa Shangri-La, Ortigas, Mandaluyong City, Ma...</td>\n",
       "      <td>121.056831</td>\n",
       "      <td>14.581404</td>\n",
       "      <td>...</td>\n",
       "      <td>Botswana Pula(P)</td>\n",
       "      <td>Yes</td>\n",
       "      <td>No</td>\n",
       "      <td>No</td>\n",
       "      <td>No</td>\n",
       "      <td>4.0</td>\n",
       "      <td>4.4</td>\n",
       "      <td>Green</td>\n",
       "      <td>Very Good</td>\n",
       "      <td>270.0</td>\n",
       "    </tr>\n",
       "    <tr>\n",
       "      <th>3</th>\n",
       "      <td>3</td>\n",
       "      <td>6318506</td>\n",
       "      <td>Ooma</td>\n",
       "      <td>162.0</td>\n",
       "      <td>Mandaluyong City</td>\n",
       "      <td>Third Floor, Mega Fashion Hall, SM Megamall, O...</td>\n",
       "      <td>SM Megamall, Ortigas, Mandaluyong City</td>\n",
       "      <td>SM Megamall, Ortigas, Mandaluyong City, Mandal...</td>\n",
       "      <td>121.056475</td>\n",
       "      <td>14.585318</td>\n",
       "      <td>...</td>\n",
       "      <td>Botswana Pula(P)</td>\n",
       "      <td>No</td>\n",
       "      <td>No</td>\n",
       "      <td>No</td>\n",
       "      <td>No</td>\n",
       "      <td>4.0</td>\n",
       "      <td>4.9</td>\n",
       "      <td>Dark Green</td>\n",
       "      <td>Excellent</td>\n",
       "      <td>365.0</td>\n",
       "    </tr>\n",
       "    <tr>\n",
       "      <th>4</th>\n",
       "      <td>4</td>\n",
       "      <td>6314302</td>\n",
       "      <td>Sambo Kojin</td>\n",
       "      <td>162.0</td>\n",
       "      <td>Mandaluyong City</td>\n",
       "      <td>Third Floor, Mega Atrium, SM Megamall, Ortigas...</td>\n",
       "      <td>SM Megamall, Ortigas, Mandaluyong City</td>\n",
       "      <td>SM Megamall, Ortigas, Mandaluyong City, Mandal...</td>\n",
       "      <td>121.057508</td>\n",
       "      <td>14.58445</td>\n",
       "      <td>...</td>\n",
       "      <td>Botswana Pula(P)</td>\n",
       "      <td>Yes</td>\n",
       "      <td>No</td>\n",
       "      <td>No</td>\n",
       "      <td>No</td>\n",
       "      <td>4.0</td>\n",
       "      <td>4.8</td>\n",
       "      <td>Dark Green</td>\n",
       "      <td>Excellent</td>\n",
       "      <td>229.0</td>\n",
       "    </tr>\n",
       "  </tbody>\n",
       "</table>\n",
       "<p>5 rows × 22 columns</p>\n",
       "</div>"
      ],
      "text/plain": [
       "  Unnamed: 0 Restaurant ID         Restaurant Name  Country Code  \\\n",
       "0          0       6317637        Le Petit Souffle         162.0   \n",
       "1          1       6304287        Izakaya Kikufuji         162.0   \n",
       "2          2       6300002  Heat - Edsa Shangri-La         162.0   \n",
       "3          3       6318506                    Ooma         162.0   \n",
       "4          4       6314302             Sambo Kojin         162.0   \n",
       "\n",
       "               City                                            Address  \\\n",
       "0       Makati City  Third Floor, Century City Mall, Kalayaan Avenu...   \n",
       "1       Makati City  Little Tokyo, 2277 Chino Roces Avenue, Legaspi...   \n",
       "2  Mandaluyong City  Edsa Shangri-La, 1 Garden Way, Ortigas, Mandal...   \n",
       "3  Mandaluyong City  Third Floor, Mega Fashion Hall, SM Megamall, O...   \n",
       "4  Mandaluyong City  Third Floor, Mega Atrium, SM Megamall, Ortigas...   \n",
       "\n",
       "                                     Locality  \\\n",
       "0   Century City Mall, Poblacion, Makati City   \n",
       "1  Little Tokyo, Legaspi Village, Makati City   \n",
       "2  Edsa Shangri-La, Ortigas, Mandaluyong City   \n",
       "3      SM Megamall, Ortigas, Mandaluyong City   \n",
       "4      SM Megamall, Ortigas, Mandaluyong City   \n",
       "\n",
       "                                    Locality Verbose   Longitude   Latitude  \\\n",
       "0  Century City Mall, Poblacion, Makati City, Mak...  121.027535  14.565443   \n",
       "1  Little Tokyo, Legaspi Village, Makati City, Ma...  121.014101  14.553708   \n",
       "2  Edsa Shangri-La, Ortigas, Mandaluyong City, Ma...  121.056831  14.581404   \n",
       "3  SM Megamall, Ortigas, Mandaluyong City, Mandal...  121.056475  14.585318   \n",
       "4  SM Megamall, Ortigas, Mandaluyong City, Mandal...  121.057508   14.58445   \n",
       "\n",
       "   ...          Currency Has Table booking Has Online delivery  \\\n",
       "0  ...  Botswana Pula(P)               Yes                  No   \n",
       "1  ...  Botswana Pula(P)               Yes                  No   \n",
       "2  ...  Botswana Pula(P)               Yes                  No   \n",
       "3  ...  Botswana Pula(P)                No                  No   \n",
       "4  ...  Botswana Pula(P)               Yes                  No   \n",
       "\n",
       "  Is delivering now Switch to order menu Price range Aggregate rating  \\\n",
       "0                No                   No         3.0              4.8   \n",
       "1                No                   No         3.0              4.5   \n",
       "2                No                   No         4.0              4.4   \n",
       "3                No                   No         4.0              4.9   \n",
       "4                No                   No         4.0              4.8   \n",
       "\n",
       "   Rating color  Rating text  Votes  \n",
       "0    Dark Green    Excellent  314.0  \n",
       "1    Dark Green    Excellent  591.0  \n",
       "2         Green    Very Good  270.0  \n",
       "3    Dark Green    Excellent  365.0  \n",
       "4    Dark Green    Excellent  229.0  \n",
       "\n",
       "[5 rows x 22 columns]"
      ]
     },
     "execution_count": 280,
     "metadata": {},
     "output_type": "execute_result"
    }
   ],
   "source": [
    "df.head()"
   ]
  },
  {
   "cell_type": "code",
   "execution_count": 281,
   "id": "950a8d13-362c-469e-b3ac-ab9a60f7c4b6",
   "metadata": {},
   "outputs": [],
   "source": [
    "Most_Expensive_restaurant_city=df.iloc[df[\"Price range\"].idxmax()][\"City\"]"
   ]
  },
  {
   "cell_type": "code",
   "execution_count": 282,
   "id": "a615bb9c-5337-424e-9312-4c6220700463",
   "metadata": {},
   "outputs": [
    {
     "data": {
      "text/plain": [
       "'Mandaluyong City'"
      ]
     },
     "execution_count": 282,
     "metadata": {},
     "output_type": "execute_result"
    }
   ],
   "source": [
    "Most_Expensive_restaurant_city"
   ]
  },
  {
   "cell_type": "code",
   "execution_count": 283,
   "id": "788dc27d-cf9a-4ebf-bed2-d30967e8211a",
   "metadata": {},
   "outputs": [],
   "source": [
    "Cheapest_restuarant_city=df.iloc[df[\"Price range\"].idxmin()][\"City\"]"
   ]
  },
  {
   "cell_type": "code",
   "execution_count": 284,
   "id": "f01294a5-a0bb-4237-b11d-dbaca33b9136",
   "metadata": {},
   "outputs": [
    {
     "data": {
      "text/plain": [
       "'Brasí_lia'"
      ]
     },
     "execution_count": 284,
     "metadata": {},
     "output_type": "execute_result"
    }
   ],
   "source": [
    "Cheapest_restuarant_city"
   ]
  },
  {
   "cell_type": "code",
   "execution_count": 285,
   "id": "c4fcad37-735e-4bbb-8a4b-c27d911a7939",
   "metadata": {},
   "outputs": [],
   "source": [
    "Highest_rated_restuarant=df.iloc[df[\"Votes\"].idxmax()][\"City\"]"
   ]
  },
  {
   "cell_type": "code",
   "execution_count": 286,
   "id": "c1669ac0-6920-4c4e-88d0-843fa5e95abe",
   "metadata": {},
   "outputs": [
    {
     "data": {
      "text/plain": [
       "'Bangalore'"
      ]
     },
     "execution_count": 286,
     "metadata": {},
     "output_type": "execute_result"
    }
   ],
   "source": [
    "Highest_rated_restuarant"
   ]
  },
  {
   "cell_type": "code",
   "execution_count": 287,
   "id": "bdbca5d5-a7a2-45e7-b020-e135bfda47eb",
   "metadata": {},
   "outputs": [],
   "source": [
    "df1=df.iloc[1400:1406]"
   ]
  },
  {
   "cell_type": "code",
   "execution_count": 297,
   "id": "16c1e3e1-5564-41ac-b52f-c8e2c945e2f2",
   "metadata": {},
   "outputs": [],
   "source": [
    "Low_rating_city=df1[df1[\"Aggregate rating\"]<4][\"City\"]"
   ]
  },
  {
   "cell_type": "code",
   "execution_count": 299,
   "id": "6fd5809e-edd4-408d-8686-4383bc2ae9dd",
   "metadata": {},
   "outputs": [
    {
     "data": {
      "text/plain": [
       "1404    Gurgaon\n",
       "1405    Gurgaon\n",
       "Name: City, dtype: object"
      ]
     },
     "execution_count": 299,
     "metadata": {},
     "output_type": "execute_result"
    }
   ],
   "source": [
    "Low_rating_city  # rating below 4/5"
   ]
  },
  {
   "cell_type": "code",
   "execution_count": 290,
   "id": "d242345c-a671-468a-938b-c9a8aac3c963",
   "metadata": {},
   "outputs": [
    {
     "data": {
      "text/html": [
       "<div>\n",
       "<style scoped>\n",
       "    .dataframe tbody tr th:only-of-type {\n",
       "        vertical-align: middle;\n",
       "    }\n",
       "\n",
       "    .dataframe tbody tr th {\n",
       "        vertical-align: top;\n",
       "    }\n",
       "\n",
       "    .dataframe thead th {\n",
       "        text-align: right;\n",
       "    }\n",
       "</style>\n",
       "<table border=\"1\" class=\"dataframe\">\n",
       "  <thead>\n",
       "    <tr style=\"text-align: right;\">\n",
       "      <th></th>\n",
       "      <th>Price range</th>\n",
       "    </tr>\n",
       "    <tr>\n",
       "      <th>Restaurant Name</th>\n",
       "      <th></th>\n",
       "    </tr>\n",
       "  </thead>\n",
       "  <tbody>\n",
       "    <tr>\n",
       "      <th>Coldpress Company</th>\n",
       "      <td>2.0</td>\n",
       "    </tr>\n",
       "    <tr>\n",
       "      <th>Crudo Juicery</th>\n",
       "      <td>1.0</td>\n",
       "    </tr>\n",
       "    <tr>\n",
       "      <th>Dabba Meat</th>\n",
       "      <td>2.0</td>\n",
       "    </tr>\n",
       "    <tr>\n",
       "      <th>First Eat</th>\n",
       "      <td>1.0</td>\n",
       "    </tr>\n",
       "    <tr>\n",
       "      <th>Kashmiri Kitchen</th>\n",
       "      <td>3.0</td>\n",
       "    </tr>\n",
       "    <tr>\n",
       "      <th>Zoe</th>\n",
       "      <td>2.0</td>\n",
       "    </tr>\n",
       "  </tbody>\n",
       "</table>\n",
       "</div>"
      ],
      "text/plain": [
       "                   Price range\n",
       "Restaurant Name               \n",
       "Coldpress Company          2.0\n",
       "Crudo Juicery              1.0\n",
       "Dabba Meat                 2.0\n",
       "First Eat                  1.0\n",
       "Kashmiri Kitchen           3.0\n",
       "Zoe                        2.0"
      ]
     },
     "execution_count": 290,
     "metadata": {},
     "output_type": "execute_result"
    }
   ],
   "source": [
    "df1.groupby(\"Restaurant Name\").agg({\"Price range\":\"max\"})  #most expensive restaurant is KASHMIRI KITCHEN"
   ]
  },
  {
   "cell_type": "markdown",
   "id": "c37ede95-54c6-4408-847d-b0cd8b56ac8f",
   "metadata": {},
   "source": [
    "Most expensive restaurant is KASHIMIRI KITCHEN¶"
   ]
  },
  {
   "cell_type": "code",
   "execution_count": 292,
   "id": "ef4d321d-bb14-46dc-8d1e-a897352db2e9",
   "metadata": {},
   "outputs": [
    {
     "data": {
      "text/html": [
       "<div>\n",
       "<style scoped>\n",
       "    .dataframe tbody tr th:only-of-type {\n",
       "        vertical-align: middle;\n",
       "    }\n",
       "\n",
       "    .dataframe tbody tr th {\n",
       "        vertical-align: top;\n",
       "    }\n",
       "\n",
       "    .dataframe thead th {\n",
       "        text-align: right;\n",
       "    }\n",
       "</style>\n",
       "<table border=\"1\" class=\"dataframe\">\n",
       "  <thead>\n",
       "    <tr style=\"text-align: right;\">\n",
       "      <th></th>\n",
       "      <th>Price range</th>\n",
       "    </tr>\n",
       "    <tr>\n",
       "      <th>Restaurant Name</th>\n",
       "      <th></th>\n",
       "    </tr>\n",
       "  </thead>\n",
       "  <tbody>\n",
       "    <tr>\n",
       "      <th>Coldpress Company</th>\n",
       "      <td>2.0</td>\n",
       "    </tr>\n",
       "    <tr>\n",
       "      <th>Crudo Juicery</th>\n",
       "      <td>1.0</td>\n",
       "    </tr>\n",
       "    <tr>\n",
       "      <th>Dabba Meat</th>\n",
       "      <td>2.0</td>\n",
       "    </tr>\n",
       "    <tr>\n",
       "      <th>First Eat</th>\n",
       "      <td>1.0</td>\n",
       "    </tr>\n",
       "    <tr>\n",
       "      <th>Kashmiri Kitchen</th>\n",
       "      <td>3.0</td>\n",
       "    </tr>\n",
       "    <tr>\n",
       "      <th>Zoe</th>\n",
       "      <td>2.0</td>\n",
       "    </tr>\n",
       "  </tbody>\n",
       "</table>\n",
       "</div>"
      ],
      "text/plain": [
       "                   Price range\n",
       "Restaurant Name               \n",
       "Coldpress Company          2.0\n",
       "Crudo Juicery              1.0\n",
       "Dabba Meat                 2.0\n",
       "First Eat                  1.0\n",
       "Kashmiri Kitchen           3.0\n",
       "Zoe                        2.0"
      ]
     },
     "execution_count": 292,
     "metadata": {},
     "output_type": "execute_result"
    }
   ],
   "source": [
    "# cheapest restaurant is CRUDO JUICERY and FIRST EAT\n",
    "df1.groupby(\"Restaurant Name\").agg({\"Price range\":\"min\"})"
   ]
  },
  {
   "cell_type": "markdown",
   "id": "695ef50c-32db-4487-b672-7d73cb0e5aaa",
   "metadata": {},
   "source": [
    "Cheapest Restaurant is CRUDO JUICERY and FRIST EAT"
   ]
  }
 ],
 "metadata": {
  "kernelspec": {
   "display_name": "Python 3 (ipykernel)",
   "language": "python",
   "name": "python3"
  },
  "language_info": {
   "codemirror_mode": {
    "name": "ipython",
    "version": 3
   },
   "file_extension": ".py",
   "mimetype": "text/x-python",
   "name": "python",
   "nbconvert_exporter": "python",
   "pygments_lexer": "ipython3",
   "version": "3.12.4"
  }
 },
 "nbformat": 4,
 "nbformat_minor": 5
}
